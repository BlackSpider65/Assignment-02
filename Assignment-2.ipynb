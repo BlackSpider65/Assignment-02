{
 "cells": [
  {
   "cell_type": "code",
   "execution_count": 1,
   "id": "522c860d",
   "metadata": {},
   "outputs": [
    {
     "data": {
      "text/plain": [
       "'this is a multi line comment.'"
      ]
     },
     "execution_count": 1,
     "metadata": {},
     "output_type": "execute_result"
    }
   ],
   "source": [
    "#....question no-01....#\n",
    "'''Comments are ignored by the interpreter and are meant for human readers to understand the code better.n Python, you can comment your code using the hash s\n",
    "two types of comment-1) single line comment, ex-'''\n",
    " # this is a single line comment.\n",
    "'''2) multi line comment, ex-'''\n",
    "\"\"\"this is a multi line comment.\"\"\""
   ]
  },
  {
   "cell_type": "code",
   "execution_count": 2,
   "id": "b3de2a4c",
   "metadata": {},
   "outputs": [],
   "source": [
    "#...question no-02....#\n",
    "'''In Python, variables are used to store data or values that can be referenced and manipulated throughout a program.\n",
    "with help of assignment operator value can be assign in variables.ex-,'''\n",
    "a=10   # in this example a is variable and 10 is value.\n",
    "'''Python is a dynamically-typed language, which means that you don't need to explicitly declare the type of a variable.ex-,'''\n",
    "a=10        #  a is a integer.\n",
    "b='vishal'  # b is a string."
   ]
  },
  {
   "cell_type": "code",
   "execution_count": 3,
   "id": "04e63f0b",
   "metadata": {},
   "outputs": [
    {
     "name": "stdout",
     "output_type": "stream",
     "text": [
      "5\n",
      "5.0\n"
     ]
    }
   ],
   "source": [
    "#.....question no-03....#\n",
    "#you can convert one data type to another using type conversion functions. ex-\n",
    "a=5.5\n",
    "print(int(a))     #  int(): Converts a value to an integer data type.\n",
    "b=5\n",
    "print(float(b))   #float(): Converts a value to a floating-point data type.\n",
    "# similarly use the more conversion function, ex- list , tuple , dict ."
   ]
  },
  {
   "cell_type": "code",
   "execution_count": 5,
   "id": "9c3619f0",
   "metadata": {},
   "outputs": [
    {
     "ename": "SyntaxError",
     "evalue": "unexpected character after line continuation character (2609313161.py, line 6)",
     "output_type": "error",
     "traceback": [
      "\u001b[1;36m  File \u001b[1;32m\"C:\\Users\\hp\\AppData\\Local\\Temp\\ipykernel_12756\\2609313161.py\"\u001b[1;36m, line \u001b[1;32m6\u001b[0m\n\u001b[1;33m    cd :\\Users\\YourUsername\\Documents\u001b[0m\n\u001b[1;37m         ^\u001b[0m\n\u001b[1;31mSyntaxError\u001b[0m\u001b[1;31m:\u001b[0m unexpected character after line continuation character\n"
     ]
    }
   ],
   "source": [
    "#.....question no-04.....#\n",
    "#Write your Python code in the text editor or IDE. For example, let's create a simple \"hello world\" script:\n",
    "print(\"hello world.\")\n",
    "#Save the file with a .py extension, such as hello.py.\n",
    "#Navigate to the directory where you saved your Python script using the cd command. For example, if your script is in the \"Documents\" folder, you would use the following command on Windows:\n",
    "cd c:\\Users\\YourUsername\\Documents\n"
   ]
  },
  {
   "cell_type": "code",
   "execution_count": 6,
   "id": "85db33ca",
   "metadata": {},
   "outputs": [
    {
     "name": "stdout",
     "output_type": "stream",
     "text": [
      "[2, 3]\n"
     ]
    }
   ],
   "source": [
    "#......question no-05......#\n",
    "my_list=[1,2,3,4,5]\n",
    "print(my_list[1:3])"
   ]
  },
  {
   "cell_type": "code",
   "execution_count": 9,
   "id": "237e9a66",
   "metadata": {},
   "outputs": [
    {
     "name": "stdout",
     "output_type": "stream",
     "text": [
      "(2+3j)\n"
     ]
    }
   ],
   "source": [
    "#.....question no-06....#\n",
    "\n",
    "'''In mathematics, a complex number is a number that can be expressed in the form a + bi\n",
    "i represents the imaginary unit, defined as the square root of -1. \n",
    "The real part a corresponds to the real numbers, and the imaginary part b corresponds to the multiples of the imaginary unit\n",
    "ex-  3+4i\n",
    " where the real part is 3 and the imaginary part is 4.'''\n",
    "\n",
    "#.....in python....#\n",
    "# using the built in complex data type , represent the complex number. ex-\n",
    "a=complex(2,3)\n",
    "print(a)    # 2- real number , 3-imaginary number.\n"
   ]
  },
  {
   "cell_type": "code",
   "execution_count": 10,
   "id": "d4ceef90",
   "metadata": {},
   "outputs": [
    {
     "name": "stdout",
     "output_type": "stream",
     "text": [
      "25\n"
     ]
    }
   ],
   "source": [
    "#....question no-07....#\n",
    "age=25\n",
    "print(age)"
   ]
  },
  {
   "cell_type": "code",
   "execution_count": 11,
   "id": "3a3c18ab",
   "metadata": {},
   "outputs": [
    {
     "name": "stdout",
     "output_type": "stream",
     "text": [
      "<class 'float'>\n"
     ]
    }
   ],
   "source": [
    "#.....question no-08....#\n",
    "price=9.99\n",
    "print(type(price))"
   ]
  },
  {
   "cell_type": "code",
   "execution_count": 12,
   "id": "a419e21d",
   "metadata": {},
   "outputs": [
    {
     "name": "stdout",
     "output_type": "stream",
     "text": [
      "Birjendra kumar shukla\n"
     ]
    }
   ],
   "source": [
    "#....question no-09.....#\n",
    "name=\"Birjendra kumar shukla\"\n",
    "print(name)"
   ]
  },
  {
   "cell_type": "code",
   "execution_count": 13,
   "id": "dcd9a372",
   "metadata": {},
   "outputs": [
    {
     "name": "stdout",
     "output_type": "stream",
     "text": [
      "World\n"
     ]
    }
   ],
   "source": [
    "#.....question no-10.....#\n",
    "s= \"Hello, World!\"\n",
    "print(s[7:12])"
   ]
  },
  {
   "cell_type": "code",
   "execution_count": 15,
   "id": "0c5b6848",
   "metadata": {},
   "outputs": [
    {
     "name": "stdout",
     "output_type": "stream",
     "text": [
      "you are currently a student.\n"
     ]
    }
   ],
   "source": [
    "#.....question no-11.....#\n",
    "is_student=True\n",
    "if is_student:\n",
    "    print(\"you are currently a student.\")\n",
    "else:\n",
    "    print(\"you are not a student.\")  # if is_student=False, then these block is executed."
   ]
  },
  {
   "cell_type": "code",
   "execution_count": null,
   "id": "7fee4a47",
   "metadata": {},
   "outputs": [],
   "source": []
  }
 ],
 "metadata": {
  "kernelspec": {
   "display_name": "Python 3 (ipykernel)",
   "language": "python",
   "name": "python3"
  },
  "language_info": {
   "codemirror_mode": {
    "name": "ipython",
    "version": 3
   },
   "file_extension": ".py",
   "mimetype": "text/x-python",
   "name": "python",
   "nbconvert_exporter": "python",
   "pygments_lexer": "ipython3",
   "version": "3.9.13"
  }
 },
 "nbformat": 4,
 "nbformat_minor": 5
}
